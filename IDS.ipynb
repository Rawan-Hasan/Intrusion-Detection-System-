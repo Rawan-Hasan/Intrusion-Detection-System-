{
  "metadata": {
    "kernelspec": {
      "language": "python",
      "display_name": "Python 3",
      "name": "python3"
    },
    "language_info": {
      "name": "python",
      "version": "3.11.11",
      "mimetype": "text/x-python",
      "codemirror_mode": {
        "name": "ipython",
        "version": 3
      },
      "pygments_lexer": "ipython3",
      "nbconvert_exporter": "python",
      "file_extension": ".py"
    },
    "kaggle": {
      "accelerator": "none",
      "dataSources": [
        {
          "sourceId": 12156311,
          "sourceType": "datasetVersion",
          "datasetId": 7656047
        }
      ],
      "dockerImageVersionId": 31040,
      "isInternetEnabled": false,
      "language": "python",
      "sourceType": "notebook",
      "isGpuEnabled": false
    },
    "colab": {
      "provenance": []
    }
  },
  "nbformat_minor": 0,
  "nbformat": 4,
  "cells": [
    {
      "cell_type": "code",
      "source": [
        "import pandas as pd\n",
        "import numpy as np\n",
        "from sklearn.preprocessing import LabelEncoder, StandardScaler\n",
        "# Replace with your actual file paths\n",
        "train_path = '/content/UNSW_NB15_training-set.csv'\n",
        "test_path = '/content/UNSW_NB15_testing-set.csv'\n",
        "\n",
        "df_train = pd.read_csv(train_path)\n",
        "df_test = pd.read_csv(test_path)\n",
        "df_all = pd.concat([df_train, df_test], axis=0).reset_index(drop=True)\n",
        "print(df_all.shape)"
      ],
      "metadata": {
        "trusted": true,
        "execution": {
          "iopub.status.busy": "2025-06-13T14:23:26.668502Z",
          "iopub.execute_input": "2025-06-13T14:23:26.669521Z",
          "iopub.status.idle": "2025-06-13T14:23:29.232843Z",
          "shell.execute_reply.started": "2025-06-13T14:23:26.669487Z",
          "shell.execute_reply": "2025-06-13T14:23:29.231664Z"
        },
        "colab": {
          "base_uri": "https://localhost:8080/"
        },
        "id": "qlaOc7Hnuuok",
        "outputId": "53bb49ab-f28f-4fcd-eab1-63f9dfccef7d"
      },
      "outputs": [
        {
          "output_type": "stream",
          "name": "stdout",
          "text": [
            "(257673, 45)\n"
          ]
        }
      ],
      "execution_count": null
    },
    {
      "cell_type": "code",
      "source": [
        "print(df_all.info())"
      ],
      "metadata": {
        "trusted": true,
        "execution": {
          "iopub.status.busy": "2025-06-13T14:23:56.368948Z",
          "iopub.execute_input": "2025-06-13T14:23:56.36928Z",
          "iopub.status.idle": "2025-06-13T14:23:56.478649Z",
          "shell.execute_reply.started": "2025-06-13T14:23:56.369245Z",
          "shell.execute_reply": "2025-06-13T14:23:56.477163Z"
        },
        "colab": {
          "base_uri": "https://localhost:8080/"
        },
        "id": "PTF8M1mFuuol",
        "outputId": "4669a955-3f88-4110-a32a-334092c9a365"
      },
      "outputs": [
        {
          "output_type": "stream",
          "name": "stdout",
          "text": [
            "<class 'pandas.core.frame.DataFrame'>\n",
            "RangeIndex: 257673 entries, 0 to 257672\n",
            "Data columns (total 45 columns):\n",
            " #   Column             Non-Null Count   Dtype  \n",
            "---  ------             --------------   -----  \n",
            " 0   id                 257673 non-null  int64  \n",
            " 1   dur                257673 non-null  float64\n",
            " 2   proto              257673 non-null  object \n",
            " 3   service            257673 non-null  object \n",
            " 4   state              257673 non-null  object \n",
            " 5   spkts              257673 non-null  int64  \n",
            " 6   dpkts              257673 non-null  int64  \n",
            " 7   sbytes             257673 non-null  int64  \n",
            " 8   dbytes             257673 non-null  int64  \n",
            " 9   rate               257673 non-null  float64\n",
            " 10  sttl               257673 non-null  int64  \n",
            " 11  dttl               257673 non-null  int64  \n",
            " 12  sload              257673 non-null  float64\n",
            " 13  dload              257673 non-null  float64\n",
            " 14  sloss              257673 non-null  int64  \n",
            " 15  dloss              257673 non-null  int64  \n",
            " 16  sinpkt             257673 non-null  float64\n",
            " 17  dinpkt             257673 non-null  float64\n",
            " 18  sjit               257673 non-null  float64\n",
            " 19  djit               257673 non-null  float64\n",
            " 20  swin               257673 non-null  int64  \n",
            " 21  stcpb              257673 non-null  int64  \n",
            " 22  dtcpb              257673 non-null  int64  \n",
            " 23  dwin               257673 non-null  int64  \n",
            " 24  tcprtt             257673 non-null  float64\n",
            " 25  synack             257673 non-null  float64\n",
            " 26  ackdat             257673 non-null  float64\n",
            " 27  smean              257673 non-null  int64  \n",
            " 28  dmean              257673 non-null  int64  \n",
            " 29  trans_depth        257673 non-null  int64  \n",
            " 30  response_body_len  257673 non-null  int64  \n",
            " 31  ct_srv_src         257673 non-null  int64  \n",
            " 32  ct_state_ttl       257673 non-null  int64  \n",
            " 33  ct_dst_ltm         257673 non-null  int64  \n",
            " 34  ct_src_dport_ltm   257673 non-null  int64  \n",
            " 35  ct_dst_sport_ltm   257673 non-null  int64  \n",
            " 36  ct_dst_src_ltm     257673 non-null  int64  \n",
            " 37  is_ftp_login       257673 non-null  int64  \n",
            " 38  ct_ftp_cmd         257673 non-null  int64  \n",
            " 39  ct_flw_http_mthd   257673 non-null  int64  \n",
            " 40  ct_src_ltm         257673 non-null  int64  \n",
            " 41  ct_srv_dst         257673 non-null  int64  \n",
            " 42  is_sm_ips_ports    257673 non-null  int64  \n",
            " 43  attack_cat         257673 non-null  object \n",
            " 44  label              257673 non-null  int64  \n",
            "dtypes: float64(11), int64(30), object(4)\n",
            "memory usage: 88.5+ MB\n",
            "None\n"
          ]
        }
      ],
      "execution_count": null
    },
    {
      "cell_type": "code",
      "source": [
        "print(df_all.describe())"
      ],
      "metadata": {
        "trusted": true,
        "execution": {
          "iopub.status.busy": "2025-06-13T14:24:16.973201Z",
          "iopub.execute_input": "2025-06-13T14:24:16.973587Z",
          "iopub.status.idle": "2025-06-13T14:24:17.422231Z",
          "shell.execute_reply.started": "2025-06-13T14:24:16.973525Z",
          "shell.execute_reply": "2025-06-13T14:24:17.420981Z"
        },
        "colab": {
          "base_uri": "https://localhost:8080/"
        },
        "id": "mtUIcdZOuuol",
        "outputId": "19c6be2e-05b4-46c3-d01c-ba66a2f72592"
      },
      "outputs": [
        {
          "output_type": "stream",
          "name": "stdout",
          "text": [
            "                  id            dur          spkts          dpkts  \\\n",
            "count  257673.000000  257673.000000  257673.000000  257673.000000   \n",
            "mean    72811.823858       1.246715      19.777144      18.514703   \n",
            "std     48929.917641       5.974305     135.947152     111.985965   \n",
            "min         1.000000       0.000000       1.000000       0.000000   \n",
            "25%     32210.000000       0.000008       2.000000       0.000000   \n",
            "50%     64419.000000       0.004285       4.000000       2.000000   \n",
            "75%    110923.000000       0.685777      12.000000      10.000000   \n",
            "max    175341.000000      59.999989   10646.000000   11018.000000   \n",
            "\n",
            "             sbytes        dbytes          rate           sttl           dttl  \\\n",
            "count  2.576730e+05  2.576730e+05  2.576730e+05  257673.000000  257673.000000   \n",
            "mean   8.572952e+03  1.438729e+04  9.125391e+04     180.000931      84.754957   \n",
            "std    1.737739e+05  1.461993e+05  1.603446e+05     102.488268     112.762131   \n",
            "min    2.400000e+01  0.000000e+00  0.000000e+00       0.000000       0.000000   \n",
            "25%    1.140000e+02  0.000000e+00  3.078928e+01      62.000000       0.000000   \n",
            "50%    5.280000e+02  1.780000e+02  2.955665e+03     254.000000      29.000000   \n",
            "75%    1.362000e+03  1.064000e+03  1.250000e+05     254.000000     252.000000   \n",
            "max    1.435577e+07  1.465753e+07  1.000000e+06     255.000000     254.000000   \n",
            "\n",
            "              sload  ...  ct_src_dport_ltm  ct_dst_sport_ltm  ct_dst_src_ltm  \\\n",
            "count  2.576730e+05  ...     257673.000000     257673.000000   257673.000000   \n",
            "mean   7.060869e+07  ...          5.238271          4.032677        8.322964   \n",
            "std    1.857313e+08  ...          8.160822          5.831515       11.120754   \n",
            "min    0.000000e+00  ...          1.000000          1.000000        1.000000   \n",
            "25%    1.231800e+04  ...          1.000000          1.000000        1.000000   \n",
            "50%    7.439423e+05  ...          1.000000          1.000000        3.000000   \n",
            "75%    8.000000e+07  ...          4.000000          3.000000        8.000000   \n",
            "max    5.988000e+09  ...         59.000000         46.000000       65.000000   \n",
            "\n",
            "        is_ftp_login     ct_ftp_cmd  ct_flw_http_mthd     ct_src_ltm  \\\n",
            "count  257673.000000  257673.000000     257673.000000  257673.000000   \n",
            "mean        0.012819       0.012850          0.132005       6.800045   \n",
            "std         0.116091       0.116421          0.681854       8.396266   \n",
            "min         0.000000       0.000000          0.000000       1.000000   \n",
            "25%         0.000000       0.000000          0.000000       2.000000   \n",
            "50%         0.000000       0.000000          0.000000       3.000000   \n",
            "75%         0.000000       0.000000          0.000000       8.000000   \n",
            "max         4.000000       4.000000         30.000000      60.000000   \n",
            "\n",
            "          ct_srv_dst  is_sm_ips_ports          label  \n",
            "count  257673.000000    257673.000000  257673.000000  \n",
            "mean        9.121049         0.014274       0.639077  \n",
            "std        10.874752         0.118618       0.480269  \n",
            "min         1.000000         0.000000       0.000000  \n",
            "25%         2.000000         0.000000       0.000000  \n",
            "50%         4.000000         0.000000       1.000000  \n",
            "75%        11.000000         0.000000       1.000000  \n",
            "max        62.000000         1.000000       1.000000  \n",
            "\n",
            "[8 rows x 41 columns]\n"
          ]
        }
      ],
      "execution_count": null
    },
    {
      "cell_type": "code",
      "source": [
        "print(df_all.columns)"
      ],
      "metadata": {
        "trusted": true,
        "execution": {
          "iopub.status.busy": "2025-06-13T14:24:46.412831Z",
          "iopub.execute_input": "2025-06-13T14:24:46.41315Z",
          "iopub.status.idle": "2025-06-13T14:24:46.419457Z",
          "shell.execute_reply.started": "2025-06-13T14:24:46.413125Z",
          "shell.execute_reply": "2025-06-13T14:24:46.418506Z"
        },
        "colab": {
          "base_uri": "https://localhost:8080/"
        },
        "id": "hGtExUbeuuol",
        "outputId": "ba124c78-b1e0-4e00-d16d-fe1430ee6aa0"
      },
      "outputs": [
        {
          "output_type": "stream",
          "name": "stdout",
          "text": [
            "Index(['id', 'dur', 'proto', 'service', 'state', 'spkts', 'dpkts', 'sbytes',\n",
            "       'dbytes', 'rate', 'sttl', 'dttl', 'sload', 'dload', 'sloss', 'dloss',\n",
            "       'sinpkt', 'dinpkt', 'sjit', 'djit', 'swin', 'stcpb', 'dtcpb', 'dwin',\n",
            "       'tcprtt', 'synack', 'ackdat', 'smean', 'dmean', 'trans_depth',\n",
            "       'response_body_len', 'ct_srv_src', 'ct_state_ttl', 'ct_dst_ltm',\n",
            "       'ct_src_dport_ltm', 'ct_dst_sport_ltm', 'ct_dst_src_ltm',\n",
            "       'is_ftp_login', 'ct_ftp_cmd', 'ct_flw_http_mthd', 'ct_src_ltm',\n",
            "       'ct_srv_dst', 'is_sm_ips_ports', 'attack_cat', 'label'],\n",
            "      dtype='object')\n"
          ]
        }
      ],
      "execution_count": null
    },
    {
      "cell_type": "code",
      "source": [
        "print(df_all['label'].value_counts())\n",
        "print(df_all['attack_cat'].value_counts())  # Optional: for multiclass"
      ],
      "metadata": {
        "trusted": true,
        "execution": {
          "iopub.status.busy": "2025-06-13T14:24:51.460069Z",
          "iopub.execute_input": "2025-06-13T14:24:51.460367Z",
          "iopub.status.idle": "2025-06-13T14:24:51.493496Z",
          "shell.execute_reply.started": "2025-06-13T14:24:51.460346Z",
          "shell.execute_reply": "2025-06-13T14:24:51.492443Z"
        },
        "colab": {
          "base_uri": "https://localhost:8080/"
        },
        "id": "ruYYASgtuuol",
        "outputId": "53115a86-7127-4ba5-8af3-7a2f5bd8670f"
      },
      "outputs": [
        {
          "output_type": "stream",
          "name": "stdout",
          "text": [
            "label\n",
            "1    164673\n",
            "0     93000\n",
            "Name: count, dtype: int64\n",
            "attack_cat\n",
            "Normal            93000\n",
            "Generic           58871\n",
            "Exploits          44525\n",
            "Fuzzers           24246\n",
            "DoS               16353\n",
            "Reconnaissance    13987\n",
            "Analysis           2677\n",
            "Backdoor           2329\n",
            "Shellcode          1511\n",
            "Worms               174\n",
            "Name: count, dtype: int64\n"
          ]
        }
      ],
      "execution_count": null
    },
    {
      "cell_type": "code",
      "source": [
        "cols_to_drop = ['id', 'attack_cat', 'label']\n",
        "X_all = df_all.drop(columns=cols_to_drop)\n",
        "y_all = df_all['label']\n"
      ],
      "metadata": {
        "trusted": true,
        "execution": {
          "iopub.status.busy": "2025-06-13T14:25:28.808179Z",
          "iopub.execute_input": "2025-06-13T14:25:28.808484Z",
          "iopub.status.idle": "2025-06-13T14:25:28.837925Z",
          "shell.execute_reply.started": "2025-06-13T14:25:28.808463Z",
          "shell.execute_reply": "2025-06-13T14:25:28.836944Z"
        },
        "id": "BknjkKA4uuom"
      },
      "outputs": [],
      "execution_count": null
    },
    {
      "cell_type": "code",
      "source": [
        "df_all['state'].unique()"
      ],
      "metadata": {
        "trusted": true,
        "execution": {
          "iopub.status.busy": "2025-06-13T14:25:34.515638Z",
          "iopub.execute_input": "2025-06-13T14:25:34.515986Z",
          "iopub.status.idle": "2025-06-13T14:25:34.536755Z",
          "shell.execute_reply.started": "2025-06-13T14:25:34.515961Z",
          "shell.execute_reply": "2025-06-13T14:25:34.534939Z"
        },
        "colab": {
          "base_uri": "https://localhost:8080/"
        },
        "id": "fNuDmeMluuom",
        "outputId": "2db92575-8626-4f0f-c4d2-3cecd0accc97"
      },
      "outputs": [
        {
          "output_type": "execute_result",
          "data": {
            "text/plain": [
              "array(['FIN', 'INT', 'CON', 'ECO', 'REQ', 'RST', 'PAR', 'URN', 'no',\n",
              "       'ACC', 'CLO'], dtype=object)"
            ]
          },
          "metadata": {},
          "execution_count": 8
        }
      ],
      "execution_count": null
    },
    {
      "cell_type": "code",
      "source": [
        "df_train['service'].unique()"
      ],
      "metadata": {
        "trusted": true,
        "execution": {
          "iopub.status.busy": "2025-06-13T14:25:47.480893Z",
          "iopub.execute_input": "2025-06-13T14:25:47.481191Z",
          "iopub.status.idle": "2025-06-13T14:25:47.491561Z",
          "shell.execute_reply.started": "2025-06-13T14:25:47.48117Z",
          "shell.execute_reply": "2025-06-13T14:25:47.490636Z"
        },
        "colab": {
          "base_uri": "https://localhost:8080/"
        },
        "id": "OXW5LxzEuuom",
        "outputId": "7caf06c0-17d8-4ebc-9b66-0f836fc75961"
      },
      "outputs": [
        {
          "output_type": "execute_result",
          "data": {
            "text/plain": [
              "array(['-', 'ftp', 'smtp', 'snmp', 'http', 'ftp-data', 'dns', 'ssh',\n",
              "       'radius', 'pop3', 'dhcp', 'ssl', 'irc'], dtype=object)"
            ]
          },
          "metadata": {},
          "execution_count": 9
        }
      ],
      "execution_count": null
    },
    {
      "cell_type": "code",
      "source": [
        "df_train['proto'].unique()"
      ],
      "metadata": {
        "trusted": true,
        "execution": {
          "iopub.status.busy": "2025-06-13T14:25:59.641033Z",
          "iopub.execute_input": "2025-06-13T14:25:59.641357Z",
          "iopub.status.idle": "2025-06-13T14:25:59.651852Z",
          "shell.execute_reply.started": "2025-06-13T14:25:59.641335Z",
          "shell.execute_reply": "2025-06-13T14:25:59.650961Z"
        },
        "colab": {
          "base_uri": "https://localhost:8080/"
        },
        "id": "Ktkb8axPuuon",
        "outputId": "07b4d665-c81c-435c-f6e8-9c17d4967d51"
      },
      "outputs": [
        {
          "output_type": "execute_result",
          "data": {
            "text/plain": [
              "array(['tcp', 'udp', 'arp', 'ospf', 'icmp', 'igmp', 'rtp', 'ddp',\n",
              "       'ipv6-frag', 'cftp', 'wsn', 'pvp', 'wb-expak', 'mtp', 'pri-enc',\n",
              "       'sat-mon', 'cphb', 'sun-nd', 'iso-ip', 'xtp', 'il', 'unas',\n",
              "       'mfe-nsp', '3pc', 'ipv6-route', 'idrp', 'bna', 'swipe',\n",
              "       'kryptolan', 'cpnx', 'rsvp', 'wb-mon', 'vmtp', 'ib', 'dgp',\n",
              "       'eigrp', 'ax.25', 'gmtp', 'pnni', 'sep', 'pgm', 'idpr-cmtp',\n",
              "       'zero', 'rvd', 'mobile', 'narp', 'fc', 'pipe', 'ipcomp', 'ipv6-no',\n",
              "       'sat-expak', 'ipv6-opts', 'snp', 'ipcv', 'br-sat-mon', 'ttp',\n",
              "       'tcf', 'nsfnet-igp', 'sprite-rpc', 'aes-sp3-d', 'sccopmce', 'sctp',\n",
              "       'qnx', 'scps', 'etherip', 'aris', 'pim', 'compaq-peer', 'vrrp',\n",
              "       'iatp', 'stp', 'l2tp', 'srp', 'sm', 'isis', 'smp', 'fire', 'ptp',\n",
              "       'crtp', 'sps', 'merit-inp', 'idpr', 'skip', 'any', 'larp', 'ipip',\n",
              "       'micp', 'encap', 'ifmp', 'tp++', 'a/n', 'ipv6', 'i-nlsp',\n",
              "       'ipx-n-ip', 'sdrp', 'tlsp', 'gre', 'mhrp', 'ddx', 'ippc', 'visa',\n",
              "       'secure-vmtp', 'uti', 'vines', 'crudp', 'iplt', 'ggp', 'ip',\n",
              "       'ipnip', 'st2', 'argus', 'bbn-rcc', 'egp', 'emcon', 'igp', 'nvp',\n",
              "       'pup', 'xnet', 'chaos', 'mux', 'dcn', 'hmp', 'prm', 'trunk-1',\n",
              "       'xns-idp', 'leaf-1', 'leaf-2', 'rdp', 'irtp', 'iso-tp4', 'netblt',\n",
              "       'trunk-2', 'cbt'], dtype=object)"
            ]
          },
          "metadata": {},
          "execution_count": 10
        }
      ],
      "execution_count": null
    },
    {
      "cell_type": "code",
      "source": [
        "service_categories =['-', 'ftp', 'smtp', 'snmp', 'http', 'ftp-data', 'dns', 'ssh',\n",
        "       'radius', 'pop3', 'dhcp', 'ssl', 'irc']\n",
        "\n",
        "proto_categories = ['tcp', 'udp', 'arp', 'ospf', 'icmp', 'igmp', 'rtp', 'ddp',\n",
        "       'ipv6-frag', 'cftp', 'wsn', 'pvp', 'wb-expak', 'mtp', 'pri-enc',\n",
        "       'sat-mon', 'cphb', 'sun-nd', 'iso-ip', 'xtp', 'il', 'unas',\n",
        "       'mfe-nsp', '3pc', 'ipv6-route', 'idrp', 'bna', 'swipe',\n",
        "       'kryptolan', 'cpnx', 'rsvp', 'wb-mon', 'vmtp', 'ib', 'dgp',\n",
        "       'eigrp', 'ax.25', 'gmtp', 'pnni', 'sep', 'pgm', 'idpr-cmtp',\n",
        "       'zero', 'rvd', 'mobile', 'narp', 'fc', 'pipe', 'ipcomp', 'ipv6-no',\n",
        "       'sat-expak', 'ipv6-opts', 'snp', 'ipcv', 'br-sat-mon', 'ttp',\n",
        "       'tcf', 'nsfnet-igp', 'sprite-rpc', 'aes-sp3-d', 'sccopmce', 'sctp',\n",
        "       'qnx', 'scps', 'etherip', 'aris', 'pim', 'compaq-peer', 'vrrp',\n",
        "       'iatp', 'stp', 'l2tp', 'srp', 'sm', 'isis', 'smp', 'fire', 'ptp',\n",
        "       'crtp', 'sps', 'merit-inp', 'idpr', 'skip', 'any', 'larp', 'ipip',\n",
        "       'micp', 'encap', 'ifmp', 'tp++', 'a/n', 'ipv6', 'i-nlsp',\n",
        "       'ipx-n-ip', 'sdrp', 'tlsp', 'gre', 'mhrp', 'ddx', 'ippc', 'visa',\n",
        "       'secure-vmtp', 'uti', 'vines', 'crudp', 'iplt', 'ggp', 'ip',\n",
        "       'ipnip', 'st2', 'argus', 'bbn-rcc', 'egp', 'emcon', 'igp', 'nvp',\n",
        "       'pup', 'xnet', 'chaos', 'mux', 'dcn', 'hmp', 'prm', 'trunk-1',\n",
        "       'xns-idp', 'leaf-1', 'leaf-2', 'rdp', 'irtp', 'iso-tp4', 'netblt',\n",
        "       'trunk-2', 'cbt']\n",
        "state_categories = ['no', 'FIN', 'INT', 'CON', 'ECO', 'REQ', 'RST', 'PAR', 'URN', 'CLO', 'ACC']\n",
        "categorical_cols = ['proto', 'service', 'state']"
      ],
      "metadata": {
        "trusted": true,
        "execution": {
          "iopub.status.busy": "2025-06-13T14:27:09.441861Z",
          "iopub.execute_input": "2025-06-13T14:27:09.442176Z",
          "iopub.status.idle": "2025-06-13T14:27:09.458639Z",
          "shell.execute_reply.started": "2025-06-13T14:27:09.442154Z",
          "shell.execute_reply": "2025-06-13T14:27:09.457463Z"
        },
        "id": "LS0ClZUeuuon"
      },
      "outputs": [],
      "execution_count": null
    },
    {
      "cell_type": "code",
      "source": [
        "all_categories = [proto_categories, service_categories, state_categories]"
      ],
      "metadata": {
        "trusted": true,
        "execution": {
          "iopub.status.busy": "2025-06-13T14:27:13.220372Z",
          "iopub.execute_input": "2025-06-13T14:27:13.220708Z",
          "iopub.status.idle": "2025-06-13T14:27:13.226376Z",
          "shell.execute_reply.started": "2025-06-13T14:27:13.220684Z",
          "shell.execute_reply": "2025-06-13T14:27:13.224743Z"
        },
        "id": "u0mH0eULuuon"
      },
      "outputs": [],
      "execution_count": null
    },
    {
      "cell_type": "code",
      "source": [
        "from sklearn.preprocessing import OrdinalEncoder\n",
        "\n",
        "oe = OrdinalEncoder(categories=all_categories)\n",
        "X_all[categorical_cols] = oe.fit_transform(X_all[categorical_cols])"
      ],
      "metadata": {
        "trusted": true,
        "execution": {
          "iopub.status.busy": "2025-06-13T14:27:33.249316Z",
          "iopub.execute_input": "2025-06-13T14:27:33.249678Z",
          "iopub.status.idle": "2025-06-13T14:27:33.443642Z",
          "shell.execute_reply.started": "2025-06-13T14:27:33.249654Z",
          "shell.execute_reply": "2025-06-13T14:27:33.442386Z"
        },
        "id": "Ii6CM7v4uuon"
      },
      "outputs": [],
      "execution_count": null
    },
    {
      "cell_type": "code",
      "source": [
        "from sklearn.preprocessing import StandardScaler\n",
        "\n",
        "scaler = StandardScaler()\n",
        "X_all_scaled = scaler.fit_transform(X_all)"
      ],
      "metadata": {
        "trusted": true,
        "execution": {
          "iopub.status.busy": "2025-06-13T14:27:38.351186Z",
          "iopub.execute_input": "2025-06-13T14:27:38.3515Z",
          "iopub.status.idle": "2025-06-13T14:27:38.642289Z",
          "shell.execute_reply.started": "2025-06-13T14:27:38.351477Z",
          "shell.execute_reply": "2025-06-13T14:27:38.641472Z"
        },
        "id": "BkLHJao6uuon"
      },
      "outputs": [],
      "execution_count": null
    },
    {
      "cell_type": "code",
      "source": [
        "print(\"All features scaled, shape:\", X_all_scaled.shape)"
      ],
      "metadata": {
        "trusted": true,
        "execution": {
          "iopub.status.busy": "2025-06-13T14:27:51.095812Z",
          "iopub.execute_input": "2025-06-13T14:27:51.096111Z",
          "iopub.status.idle": "2025-06-13T14:27:51.101969Z",
          "shell.execute_reply.started": "2025-06-13T14:27:51.09609Z",
          "shell.execute_reply": "2025-06-13T14:27:51.100731Z"
        },
        "colab": {
          "base_uri": "https://localhost:8080/"
        },
        "id": "P_lsB9zzuuon",
        "outputId": "c3cbc06a-e7a1-44d7-974f-3e6a9b075460"
      },
      "outputs": [
        {
          "output_type": "stream",
          "name": "stdout",
          "text": [
            "All features scaled, shape: (257673, 42)\n"
          ]
        }
      ],
      "execution_count": null
    },
    {
      "cell_type": "code",
      "source": [
        "print(\"All features scaled, shape:\", X_all_scaled.shape)"
      ],
      "metadata": {
        "trusted": true,
        "execution": {
          "iopub.status.busy": "2025-06-13T14:28:03.441147Z",
          "iopub.execute_input": "2025-06-13T14:28:03.441468Z",
          "iopub.status.idle": "2025-06-13T14:28:03.44681Z",
          "shell.execute_reply.started": "2025-06-13T14:28:03.441445Z",
          "shell.execute_reply": "2025-06-13T14:28:03.445922Z"
        },
        "colab": {
          "base_uri": "https://localhost:8080/"
        },
        "id": "qn895nFauuoo",
        "outputId": "f7e9eeeb-317e-4287-e970-13d705ac5e83"
      },
      "outputs": [
        {
          "output_type": "stream",
          "name": "stdout",
          "text": [
            "All features scaled, shape: (257673, 42)\n"
          ]
        }
      ],
      "execution_count": null
    },
    {
      "cell_type": "code",
      "source": [
        "print(\"Unique values per categorical after encoding:\")\n",
        "for col in categorical_cols:\n",
        "    print(col, sorted(X_all[col].unique()))"
      ],
      "metadata": {
        "trusted": true,
        "execution": {
          "iopub.status.busy": "2025-06-13T14:28:15.321034Z",
          "iopub.execute_input": "2025-06-13T14:28:15.321389Z",
          "iopub.status.idle": "2025-06-13T14:28:15.340886Z",
          "shell.execute_reply.started": "2025-06-13T14:28:15.321364Z",
          "shell.execute_reply": "2025-06-13T14:28:15.339791Z"
        },
        "colab": {
          "base_uri": "https://localhost:8080/"
        },
        "id": "IwqtrNXpuuoo",
        "outputId": "6d0846c8-29ce-4945-f29b-c177e24af0b5"
      },
      "outputs": [
        {
          "output_type": "stream",
          "name": "stdout",
          "text": [
            "Unique values per categorical after encoding:\n",
            "proto [np.float64(0.0), np.float64(1.0), np.float64(2.0), np.float64(3.0), np.float64(4.0), np.float64(5.0), np.float64(6.0), np.float64(7.0), np.float64(8.0), np.float64(9.0), np.float64(10.0), np.float64(11.0), np.float64(12.0), np.float64(13.0), np.float64(14.0), np.float64(15.0), np.float64(16.0), np.float64(17.0), np.float64(18.0), np.float64(19.0), np.float64(20.0), np.float64(21.0), np.float64(22.0), np.float64(23.0), np.float64(24.0), np.float64(25.0), np.float64(26.0), np.float64(27.0), np.float64(28.0), np.float64(29.0), np.float64(30.0), np.float64(31.0), np.float64(32.0), np.float64(33.0), np.float64(34.0), np.float64(35.0), np.float64(36.0), np.float64(37.0), np.float64(38.0), np.float64(39.0), np.float64(40.0), np.float64(41.0), np.float64(42.0), np.float64(43.0), np.float64(44.0), np.float64(45.0), np.float64(46.0), np.float64(47.0), np.float64(48.0), np.float64(49.0), np.float64(50.0), np.float64(51.0), np.float64(52.0), np.float64(53.0), np.float64(54.0), np.float64(55.0), np.float64(56.0), np.float64(57.0), np.float64(58.0), np.float64(59.0), np.float64(60.0), np.float64(61.0), np.float64(62.0), np.float64(63.0), np.float64(64.0), np.float64(65.0), np.float64(66.0), np.float64(67.0), np.float64(68.0), np.float64(69.0), np.float64(70.0), np.float64(71.0), np.float64(72.0), np.float64(73.0), np.float64(74.0), np.float64(75.0), np.float64(76.0), np.float64(77.0), np.float64(78.0), np.float64(79.0), np.float64(80.0), np.float64(81.0), np.float64(82.0), np.float64(83.0), np.float64(84.0), np.float64(85.0), np.float64(86.0), np.float64(87.0), np.float64(88.0), np.float64(89.0), np.float64(90.0), np.float64(91.0), np.float64(92.0), np.float64(93.0), np.float64(94.0), np.float64(95.0), np.float64(96.0), np.float64(97.0), np.float64(98.0), np.float64(99.0), np.float64(100.0), np.float64(101.0), np.float64(102.0), np.float64(103.0), np.float64(104.0), np.float64(105.0), np.float64(106.0), np.float64(107.0), np.float64(108.0), np.float64(109.0), np.float64(110.0), np.float64(111.0), np.float64(112.0), np.float64(113.0), np.float64(114.0), np.float64(115.0), np.float64(116.0), np.float64(117.0), np.float64(118.0), np.float64(119.0), np.float64(120.0), np.float64(121.0), np.float64(122.0), np.float64(123.0), np.float64(124.0), np.float64(125.0), np.float64(126.0), np.float64(127.0), np.float64(128.0), np.float64(129.0), np.float64(130.0), np.float64(131.0), np.float64(132.0)]\n",
            "service [np.float64(0.0), np.float64(1.0), np.float64(2.0), np.float64(3.0), np.float64(4.0), np.float64(5.0), np.float64(6.0), np.float64(7.0), np.float64(8.0), np.float64(9.0), np.float64(10.0), np.float64(11.0), np.float64(12.0)]\n",
            "state [np.float64(0.0), np.float64(1.0), np.float64(2.0), np.float64(3.0), np.float64(4.0), np.float64(5.0), np.float64(6.0), np.float64(7.0), np.float64(8.0), np.float64(9.0), np.float64(10.0)]\n"
          ]
        }
      ],
      "execution_count": null
    },
    {
      "cell_type": "code",
      "source": [
        "X_all.head()"
      ],
      "metadata": {
        "trusted": true,
        "execution": {
          "iopub.status.busy": "2025-06-13T14:28:27.743754Z",
          "iopub.execute_input": "2025-06-13T14:28:27.744029Z",
          "iopub.status.idle": "2025-06-13T14:28:27.770185Z",
          "shell.execute_reply.started": "2025-06-13T14:28:27.744012Z",
          "shell.execute_reply": "2025-06-13T14:28:27.769148Z"
        },
        "colab": {
          "base_uri": "https://localhost:8080/",
          "height": 255
        },
        "id": "WVtv49Pvuuoo",
        "outputId": "63b8031a-9fd4-447f-de65-73e2bc986df6"
      },
      "outputs": [
        {
          "output_type": "execute_result",
          "data": {
            "text/plain": [
              "        dur  proto  service  state  spkts  dpkts  sbytes  dbytes       rate  \\\n",
              "0  0.121478    0.0      0.0    1.0      6      4     258     172  74.087490   \n",
              "1  0.649902    0.0      0.0    1.0     14     38     734   42014  78.473372   \n",
              "2  1.623129    0.0      0.0    1.0      8     16     364   13186  14.170161   \n",
              "3  1.681642    0.0      1.0    1.0     12     12     628     770  13.677108   \n",
              "4  0.449454    0.0      0.0    1.0     10      6     534     268  33.373826   \n",
              "\n",
              "   sttl  ...  ct_dst_ltm  ct_src_dport_ltm  ct_dst_sport_ltm  ct_dst_src_ltm  \\\n",
              "0   252  ...           1                 1                 1               1   \n",
              "1    62  ...           1                 1                 1               2   \n",
              "2    62  ...           2                 1                 1               3   \n",
              "3    62  ...           2                 1                 1               3   \n",
              "4   254  ...           2                 2                 1              40   \n",
              "\n",
              "   is_ftp_login  ct_ftp_cmd  ct_flw_http_mthd  ct_src_ltm  ct_srv_dst  \\\n",
              "0             0           0                 0           1           1   \n",
              "1             0           0                 0           1           6   \n",
              "2             0           0                 0           2           6   \n",
              "3             1           1                 0           2           1   \n",
              "4             0           0                 0           2          39   \n",
              "\n",
              "   is_sm_ips_ports  \n",
              "0                0  \n",
              "1                0  \n",
              "2                0  \n",
              "3                0  \n",
              "4                0  \n",
              "\n",
              "[5 rows x 42 columns]"
            ],
            "text/html": [
              "\n",
              "  <div id=\"df-cc5ca7a0-f21c-46cb-bc47-6b47927a8ccf\" class=\"colab-df-container\">\n",
              "    <div>\n",
              "<style scoped>\n",
              "    .dataframe tbody tr th:only-of-type {\n",
              "        vertical-align: middle;\n",
              "    }\n",
              "\n",
              "    .dataframe tbody tr th {\n",
              "        vertical-align: top;\n",
              "    }\n",
              "\n",
              "    .dataframe thead th {\n",
              "        text-align: right;\n",
              "    }\n",
              "</style>\n",
              "<table border=\"1\" class=\"dataframe\">\n",
              "  <thead>\n",
              "    <tr style=\"text-align: right;\">\n",
              "      <th></th>\n",
              "      <th>dur</th>\n",
              "      <th>proto</th>\n",
              "      <th>service</th>\n",
              "      <th>state</th>\n",
              "      <th>spkts</th>\n",
              "      <th>dpkts</th>\n",
              "      <th>sbytes</th>\n",
              "      <th>dbytes</th>\n",
              "      <th>rate</th>\n",
              "      <th>sttl</th>\n",
              "      <th>...</th>\n",
              "      <th>ct_dst_ltm</th>\n",
              "      <th>ct_src_dport_ltm</th>\n",
              "      <th>ct_dst_sport_ltm</th>\n",
              "      <th>ct_dst_src_ltm</th>\n",
              "      <th>is_ftp_login</th>\n",
              "      <th>ct_ftp_cmd</th>\n",
              "      <th>ct_flw_http_mthd</th>\n",
              "      <th>ct_src_ltm</th>\n",
              "      <th>ct_srv_dst</th>\n",
              "      <th>is_sm_ips_ports</th>\n",
              "    </tr>\n",
              "  </thead>\n",
              "  <tbody>\n",
              "    <tr>\n",
              "      <th>0</th>\n",
              "      <td>0.121478</td>\n",
              "      <td>0.0</td>\n",
              "      <td>0.0</td>\n",
              "      <td>1.0</td>\n",
              "      <td>6</td>\n",
              "      <td>4</td>\n",
              "      <td>258</td>\n",
              "      <td>172</td>\n",
              "      <td>74.087490</td>\n",
              "      <td>252</td>\n",
              "      <td>...</td>\n",
              "      <td>1</td>\n",
              "      <td>1</td>\n",
              "      <td>1</td>\n",
              "      <td>1</td>\n",
              "      <td>0</td>\n",
              "      <td>0</td>\n",
              "      <td>0</td>\n",
              "      <td>1</td>\n",
              "      <td>1</td>\n",
              "      <td>0</td>\n",
              "    </tr>\n",
              "    <tr>\n",
              "      <th>1</th>\n",
              "      <td>0.649902</td>\n",
              "      <td>0.0</td>\n",
              "      <td>0.0</td>\n",
              "      <td>1.0</td>\n",
              "      <td>14</td>\n",
              "      <td>38</td>\n",
              "      <td>734</td>\n",
              "      <td>42014</td>\n",
              "      <td>78.473372</td>\n",
              "      <td>62</td>\n",
              "      <td>...</td>\n",
              "      <td>1</td>\n",
              "      <td>1</td>\n",
              "      <td>1</td>\n",
              "      <td>2</td>\n",
              "      <td>0</td>\n",
              "      <td>0</td>\n",
              "      <td>0</td>\n",
              "      <td>1</td>\n",
              "      <td>6</td>\n",
              "      <td>0</td>\n",
              "    </tr>\n",
              "    <tr>\n",
              "      <th>2</th>\n",
              "      <td>1.623129</td>\n",
              "      <td>0.0</td>\n",
              "      <td>0.0</td>\n",
              "      <td>1.0</td>\n",
              "      <td>8</td>\n",
              "      <td>16</td>\n",
              "      <td>364</td>\n",
              "      <td>13186</td>\n",
              "      <td>14.170161</td>\n",
              "      <td>62</td>\n",
              "      <td>...</td>\n",
              "      <td>2</td>\n",
              "      <td>1</td>\n",
              "      <td>1</td>\n",
              "      <td>3</td>\n",
              "      <td>0</td>\n",
              "      <td>0</td>\n",
              "      <td>0</td>\n",
              "      <td>2</td>\n",
              "      <td>6</td>\n",
              "      <td>0</td>\n",
              "    </tr>\n",
              "    <tr>\n",
              "      <th>3</th>\n",
              "      <td>1.681642</td>\n",
              "      <td>0.0</td>\n",
              "      <td>1.0</td>\n",
              "      <td>1.0</td>\n",
              "      <td>12</td>\n",
              "      <td>12</td>\n",
              "      <td>628</td>\n",
              "      <td>770</td>\n",
              "      <td>13.677108</td>\n",
              "      <td>62</td>\n",
              "      <td>...</td>\n",
              "      <td>2</td>\n",
              "      <td>1</td>\n",
              "      <td>1</td>\n",
              "      <td>3</td>\n",
              "      <td>1</td>\n",
              "      <td>1</td>\n",
              "      <td>0</td>\n",
              "      <td>2</td>\n",
              "      <td>1</td>\n",
              "      <td>0</td>\n",
              "    </tr>\n",
              "    <tr>\n",
              "      <th>4</th>\n",
              "      <td>0.449454</td>\n",
              "      <td>0.0</td>\n",
              "      <td>0.0</td>\n",
              "      <td>1.0</td>\n",
              "      <td>10</td>\n",
              "      <td>6</td>\n",
              "      <td>534</td>\n",
              "      <td>268</td>\n",
              "      <td>33.373826</td>\n",
              "      <td>254</td>\n",
              "      <td>...</td>\n",
              "      <td>2</td>\n",
              "      <td>2</td>\n",
              "      <td>1</td>\n",
              "      <td>40</td>\n",
              "      <td>0</td>\n",
              "      <td>0</td>\n",
              "      <td>0</td>\n",
              "      <td>2</td>\n",
              "      <td>39</td>\n",
              "      <td>0</td>\n",
              "    </tr>\n",
              "  </tbody>\n",
              "</table>\n",
              "<p>5 rows × 42 columns</p>\n",
              "</div>\n",
              "    <div class=\"colab-df-buttons\">\n",
              "\n",
              "  <div class=\"colab-df-container\">\n",
              "    <button class=\"colab-df-convert\" onclick=\"convertToInteractive('df-cc5ca7a0-f21c-46cb-bc47-6b47927a8ccf')\"\n",
              "            title=\"Convert this dataframe to an interactive table.\"\n",
              "            style=\"display:none;\">\n",
              "\n",
              "  <svg xmlns=\"http://www.w3.org/2000/svg\" height=\"24px\" viewBox=\"0 -960 960 960\">\n",
              "    <path d=\"M120-120v-720h720v720H120Zm60-500h600v-160H180v160Zm220 220h160v-160H400v160Zm0 220h160v-160H400v160ZM180-400h160v-160H180v160Zm440 0h160v-160H620v160ZM180-180h160v-160H180v160Zm440 0h160v-160H620v160Z\"/>\n",
              "  </svg>\n",
              "    </button>\n",
              "\n",
              "  <style>\n",
              "    .colab-df-container {\n",
              "      display:flex;\n",
              "      gap: 12px;\n",
              "    }\n",
              "\n",
              "    .colab-df-convert {\n",
              "      background-color: #E8F0FE;\n",
              "      border: none;\n",
              "      border-radius: 50%;\n",
              "      cursor: pointer;\n",
              "      display: none;\n",
              "      fill: #1967D2;\n",
              "      height: 32px;\n",
              "      padding: 0 0 0 0;\n",
              "      width: 32px;\n",
              "    }\n",
              "\n",
              "    .colab-df-convert:hover {\n",
              "      background-color: #E2EBFA;\n",
              "      box-shadow: 0px 1px 2px rgba(60, 64, 67, 0.3), 0px 1px 3px 1px rgba(60, 64, 67, 0.15);\n",
              "      fill: #174EA6;\n",
              "    }\n",
              "\n",
              "    .colab-df-buttons div {\n",
              "      margin-bottom: 4px;\n",
              "    }\n",
              "\n",
              "    [theme=dark] .colab-df-convert {\n",
              "      background-color: #3B4455;\n",
              "      fill: #D2E3FC;\n",
              "    }\n",
              "\n",
              "    [theme=dark] .colab-df-convert:hover {\n",
              "      background-color: #434B5C;\n",
              "      box-shadow: 0px 1px 3px 1px rgba(0, 0, 0, 0.15);\n",
              "      filter: drop-shadow(0px 1px 2px rgba(0, 0, 0, 0.3));\n",
              "      fill: #FFFFFF;\n",
              "    }\n",
              "  </style>\n",
              "\n",
              "    <script>\n",
              "      const buttonEl =\n",
              "        document.querySelector('#df-cc5ca7a0-f21c-46cb-bc47-6b47927a8ccf button.colab-df-convert');\n",
              "      buttonEl.style.display =\n",
              "        google.colab.kernel.accessAllowed ? 'block' : 'none';\n",
              "\n",
              "      async function convertToInteractive(key) {\n",
              "        const element = document.querySelector('#df-cc5ca7a0-f21c-46cb-bc47-6b47927a8ccf');\n",
              "        const dataTable =\n",
              "          await google.colab.kernel.invokeFunction('convertToInteractive',\n",
              "                                                    [key], {});\n",
              "        if (!dataTable) return;\n",
              "\n",
              "        const docLinkHtml = 'Like what you see? Visit the ' +\n",
              "          '<a target=\"_blank\" href=https://colab.research.google.com/notebooks/data_table.ipynb>data table notebook</a>'\n",
              "          + ' to learn more about interactive tables.';\n",
              "        element.innerHTML = '';\n",
              "        dataTable['output_type'] = 'display_data';\n",
              "        await google.colab.output.renderOutput(dataTable, element);\n",
              "        const docLink = document.createElement('div');\n",
              "        docLink.innerHTML = docLinkHtml;\n",
              "        element.appendChild(docLink);\n",
              "      }\n",
              "    </script>\n",
              "  </div>\n",
              "\n",
              "\n",
              "    <div id=\"df-4dc62319-b58f-4924-9927-92c15c4f1658\">\n",
              "      <button class=\"colab-df-quickchart\" onclick=\"quickchart('df-4dc62319-b58f-4924-9927-92c15c4f1658')\"\n",
              "                title=\"Suggest charts\"\n",
              "                style=\"display:none;\">\n",
              "\n",
              "<svg xmlns=\"http://www.w3.org/2000/svg\" height=\"24px\"viewBox=\"0 0 24 24\"\n",
              "     width=\"24px\">\n",
              "    <g>\n",
              "        <path d=\"M19 3H5c-1.1 0-2 .9-2 2v14c0 1.1.9 2 2 2h14c1.1 0 2-.9 2-2V5c0-1.1-.9-2-2-2zM9 17H7v-7h2v7zm4 0h-2V7h2v10zm4 0h-2v-4h2v4z\"/>\n",
              "    </g>\n",
              "</svg>\n",
              "      </button>\n",
              "\n",
              "<style>\n",
              "  .colab-df-quickchart {\n",
              "      --bg-color: #E8F0FE;\n",
              "      --fill-color: #1967D2;\n",
              "      --hover-bg-color: #E2EBFA;\n",
              "      --hover-fill-color: #174EA6;\n",
              "      --disabled-fill-color: #AAA;\n",
              "      --disabled-bg-color: #DDD;\n",
              "  }\n",
              "\n",
              "  [theme=dark] .colab-df-quickchart {\n",
              "      --bg-color: #3B4455;\n",
              "      --fill-color: #D2E3FC;\n",
              "      --hover-bg-color: #434B5C;\n",
              "      --hover-fill-color: #FFFFFF;\n",
              "      --disabled-bg-color: #3B4455;\n",
              "      --disabled-fill-color: #666;\n",
              "  }\n",
              "\n",
              "  .colab-df-quickchart {\n",
              "    background-color: var(--bg-color);\n",
              "    border: none;\n",
              "    border-radius: 50%;\n",
              "    cursor: pointer;\n",
              "    display: none;\n",
              "    fill: var(--fill-color);\n",
              "    height: 32px;\n",
              "    padding: 0;\n",
              "    width: 32px;\n",
              "  }\n",
              "\n",
              "  .colab-df-quickchart:hover {\n",
              "    background-color: var(--hover-bg-color);\n",
              "    box-shadow: 0 1px 2px rgba(60, 64, 67, 0.3), 0 1px 3px 1px rgba(60, 64, 67, 0.15);\n",
              "    fill: var(--button-hover-fill-color);\n",
              "  }\n",
              "\n",
              "  .colab-df-quickchart-complete:disabled,\n",
              "  .colab-df-quickchart-complete:disabled:hover {\n",
              "    background-color: var(--disabled-bg-color);\n",
              "    fill: var(--disabled-fill-color);\n",
              "    box-shadow: none;\n",
              "  }\n",
              "\n",
              "  .colab-df-spinner {\n",
              "    border: 2px solid var(--fill-color);\n",
              "    border-color: transparent;\n",
              "    border-bottom-color: var(--fill-color);\n",
              "    animation:\n",
              "      spin 1s steps(1) infinite;\n",
              "  }\n",
              "\n",
              "  @keyframes spin {\n",
              "    0% {\n",
              "      border-color: transparent;\n",
              "      border-bottom-color: var(--fill-color);\n",
              "      border-left-color: var(--fill-color);\n",
              "    }\n",
              "    20% {\n",
              "      border-color: transparent;\n",
              "      border-left-color: var(--fill-color);\n",
              "      border-top-color: var(--fill-color);\n",
              "    }\n",
              "    30% {\n",
              "      border-color: transparent;\n",
              "      border-left-color: var(--fill-color);\n",
              "      border-top-color: var(--fill-color);\n",
              "      border-right-color: var(--fill-color);\n",
              "    }\n",
              "    40% {\n",
              "      border-color: transparent;\n",
              "      border-right-color: var(--fill-color);\n",
              "      border-top-color: var(--fill-color);\n",
              "    }\n",
              "    60% {\n",
              "      border-color: transparent;\n",
              "      border-right-color: var(--fill-color);\n",
              "    }\n",
              "    80% {\n",
              "      border-color: transparent;\n",
              "      border-right-color: var(--fill-color);\n",
              "      border-bottom-color: var(--fill-color);\n",
              "    }\n",
              "    90% {\n",
              "      border-color: transparent;\n",
              "      border-bottom-color: var(--fill-color);\n",
              "    }\n",
              "  }\n",
              "</style>\n",
              "\n",
              "      <script>\n",
              "        async function quickchart(key) {\n",
              "          const quickchartButtonEl =\n",
              "            document.querySelector('#' + key + ' button');\n",
              "          quickchartButtonEl.disabled = true;  // To prevent multiple clicks.\n",
              "          quickchartButtonEl.classList.add('colab-df-spinner');\n",
              "          try {\n",
              "            const charts = await google.colab.kernel.invokeFunction(\n",
              "                'suggestCharts', [key], {});\n",
              "          } catch (error) {\n",
              "            console.error('Error during call to suggestCharts:', error);\n",
              "          }\n",
              "          quickchartButtonEl.classList.remove('colab-df-spinner');\n",
              "          quickchartButtonEl.classList.add('colab-df-quickchart-complete');\n",
              "        }\n",
              "        (() => {\n",
              "          let quickchartButtonEl =\n",
              "            document.querySelector('#df-4dc62319-b58f-4924-9927-92c15c4f1658 button');\n",
              "          quickchartButtonEl.style.display =\n",
              "            google.colab.kernel.accessAllowed ? 'block' : 'none';\n",
              "        })();\n",
              "      </script>\n",
              "    </div>\n",
              "\n",
              "    </div>\n",
              "  </div>\n"
            ],
            "application/vnd.google.colaboratory.intrinsic+json": {
              "type": "dataframe",
              "variable_name": "X_all"
            }
          },
          "metadata": {},
          "execution_count": 18
        }
      ],
      "execution_count": null
    },
    {
      "cell_type": "code",
      "source": [
        "X_all.info()"
      ],
      "metadata": {
        "trusted": true,
        "execution": {
          "iopub.status.busy": "2025-06-13T14:28:40.196276Z",
          "iopub.execute_input": "2025-06-13T14:28:40.196629Z",
          "iopub.status.idle": "2025-06-13T14:28:40.234603Z",
          "shell.execute_reply.started": "2025-06-13T14:28:40.196607Z",
          "shell.execute_reply": "2025-06-13T14:28:40.233023Z"
        },
        "colab": {
          "base_uri": "https://localhost:8080/"
        },
        "id": "avrBBK1Buuoo",
        "outputId": "133b5e89-83b5-4dc4-97ab-53a00043744f"
      },
      "outputs": [
        {
          "output_type": "stream",
          "name": "stdout",
          "text": [
            "<class 'pandas.core.frame.DataFrame'>\n",
            "RangeIndex: 257673 entries, 0 to 257672\n",
            "Data columns (total 42 columns):\n",
            " #   Column             Non-Null Count   Dtype  \n",
            "---  ------             --------------   -----  \n",
            " 0   dur                257673 non-null  float64\n",
            " 1   proto              257673 non-null  float64\n",
            " 2   service            257673 non-null  float64\n",
            " 3   state              257673 non-null  float64\n",
            " 4   spkts              257673 non-null  int64  \n",
            " 5   dpkts              257673 non-null  int64  \n",
            " 6   sbytes             257673 non-null  int64  \n",
            " 7   dbytes             257673 non-null  int64  \n",
            " 8   rate               257673 non-null  float64\n",
            " 9   sttl               257673 non-null  int64  \n",
            " 10  dttl               257673 non-null  int64  \n",
            " 11  sload              257673 non-null  float64\n",
            " 12  dload              257673 non-null  float64\n",
            " 13  sloss              257673 non-null  int64  \n",
            " 14  dloss              257673 non-null  int64  \n",
            " 15  sinpkt             257673 non-null  float64\n",
            " 16  dinpkt             257673 non-null  float64\n",
            " 17  sjit               257673 non-null  float64\n",
            " 18  djit               257673 non-null  float64\n",
            " 19  swin               257673 non-null  int64  \n",
            " 20  stcpb              257673 non-null  int64  \n",
            " 21  dtcpb              257673 non-null  int64  \n",
            " 22  dwin               257673 non-null  int64  \n",
            " 23  tcprtt             257673 non-null  float64\n",
            " 24  synack             257673 non-null  float64\n",
            " 25  ackdat             257673 non-null  float64\n",
            " 26  smean              257673 non-null  int64  \n",
            " 27  dmean              257673 non-null  int64  \n",
            " 28  trans_depth        257673 non-null  int64  \n",
            " 29  response_body_len  257673 non-null  int64  \n",
            " 30  ct_srv_src         257673 non-null  int64  \n",
            " 31  ct_state_ttl       257673 non-null  int64  \n",
            " 32  ct_dst_ltm         257673 non-null  int64  \n",
            " 33  ct_src_dport_ltm   257673 non-null  int64  \n",
            " 34  ct_dst_sport_ltm   257673 non-null  int64  \n",
            " 35  ct_dst_src_ltm     257673 non-null  int64  \n",
            " 36  is_ftp_login       257673 non-null  int64  \n",
            " 37  ct_ftp_cmd         257673 non-null  int64  \n",
            " 38  ct_flw_http_mthd   257673 non-null  int64  \n",
            " 39  ct_src_ltm         257673 non-null  int64  \n",
            " 40  ct_srv_dst         257673 non-null  int64  \n",
            " 41  is_sm_ips_ports    257673 non-null  int64  \n",
            "dtypes: float64(14), int64(28)\n",
            "memory usage: 82.6 MB\n"
          ]
        }
      ],
      "execution_count": null
    },
    {
      "cell_type": "code",
      "source": [
        "from sklearn.model_selection import train_test_split\n",
        "\n",
        "# Let's say you want 70% training, 30% testing:\n",
        "X_train, X_test, y_train, y_test = train_test_split(\n",
        "    X_all_scaled,\n",
        "    y_all,\n",
        "    test_size=0.2,\n",
        "    random_state=42,\n",
        "    stratify=y_all    # <--- THIS ensures balanced labels\n",
        ")\n",
        "\n",
        "# Confirm balance:\n",
        "import numpy as np\n",
        "\n",
        "print(\"Train label distribution:\", np.bincount(y_train))\n",
        "print(\"Test label distribution:\", np.bincount(y_test))\n",
        "print(\"Total samples:\", len(y_all))\n",
        "print(\"Train:\", len(y_train), \"Test:\", len(y_test))"
      ],
      "metadata": {
        "trusted": true,
        "execution": {
          "iopub.status.busy": "2025-06-13T14:28:56.588164Z",
          "iopub.execute_input": "2025-06-13T14:28:56.588434Z",
          "iopub.status.idle": "2025-06-13T14:28:56.991779Z",
          "shell.execute_reply.started": "2025-06-13T14:28:56.588416Z",
          "shell.execute_reply": "2025-06-13T14:28:56.990808Z"
        },
        "colab": {
          "base_uri": "https://localhost:8080/"
        },
        "id": "E8wWY8Bquuoo",
        "outputId": "058238f0-789d-494d-e20a-c02052b02bfa"
      },
      "outputs": [
        {
          "output_type": "stream",
          "name": "stdout",
          "text": [
            "Train label distribution: [ 74400 131738]\n",
            "Test label distribution: [18600 32935]\n",
            "Total samples: 257673\n",
            "Train: 206138 Test: 51535\n"
          ]
        }
      ],
      "execution_count": null
    },
    {
      "cell_type": "code",
      "source": [
        "# Save\n",
        "np.save('X_train.npy', X_train)\n",
        "np.save('X_test.npy', X_test)\n",
        "np.save('y_train.npy', y_train)\n",
        "np.save('y_test.npy', y_test)"
      ],
      "metadata": {
        "trusted": true,
        "execution": {
          "iopub.status.busy": "2025-06-13T14:29:29.832209Z",
          "iopub.execute_input": "2025-06-13T14:29:29.832581Z",
          "iopub.status.idle": "2025-06-13T14:29:29.919667Z",
          "shell.execute_reply.started": "2025-06-13T14:29:29.832527Z",
          "shell.execute_reply": "2025-06-13T14:29:29.918525Z"
        },
        "id": "XVIUdhMZuuoo"
      },
      "outputs": [],
      "execution_count": null
    },
    {
      "cell_type": "code",
      "source": [
        "import joblib\n",
        "# Save\n",
        "joblib.dump(X_train, 'X_train.joblib')\n",
        "joblib.dump(X_test, 'X_test.joblib')\n",
        "joblib.dump(y_train, 'y_train.joblib')\n",
        "joblib.dump(y_test, 'y_test.joblib')"
      ],
      "metadata": {
        "trusted": true,
        "execution": {
          "iopub.status.busy": "2025-06-13T14:29:34.680183Z",
          "iopub.execute_input": "2025-06-13T14:29:34.680514Z",
          "iopub.status.idle": "2025-06-13T14:29:34.810411Z",
          "shell.execute_reply.started": "2025-06-13T14:29:34.68049Z",
          "shell.execute_reply": "2025-06-13T14:29:34.809405Z"
        },
        "colab": {
          "base_uri": "https://localhost:8080/"
        },
        "id": "euZ5A4Hjuuoo",
        "outputId": "10e0356f-f50a-41d0-ff45-f0eab31f186f"
      },
      "outputs": [
        {
          "output_type": "execute_result",
          "data": {
            "text/plain": [
              "['y_test.joblib']"
            ]
          },
          "metadata": {},
          "execution_count": 22
        }
      ],
      "execution_count": null
    },
    {
      "cell_type": "code",
      "source": [
        "from sklearn.ensemble import RandomForestClassifier\n",
        "from sklearn.metrics import classification_report, confusion_matrix, roc_auc_score\n",
        "import joblib\n",
        "\n",
        "# Train\n",
        "rf = RandomForestClassifier(n_estimators=100, random_state=42, class_weight='balanced')\n",
        "rf.fit(X_train, y_train)\n",
        "\n",
        "# Save model\n",
        "joblib.dump(rf, 'rf_model.joblib')"
      ],
      "metadata": {
        "trusted": true,
        "execution": {
          "iopub.status.busy": "2025-06-13T14:29:47.051662Z",
          "iopub.execute_input": "2025-06-13T14:29:47.052663Z",
          "iopub.status.idle": "2025-06-13T14:30:42.171808Z",
          "shell.execute_reply.started": "2025-06-13T14:29:47.052596Z",
          "shell.execute_reply": "2025-06-13T14:30:42.170656Z"
        },
        "colab": {
          "base_uri": "https://localhost:8080/"
        },
        "id": "w8a6wroFuuoo",
        "outputId": "66f43c83-c96b-4fc1-967a-8ee953e107de"
      },
      "outputs": [
        {
          "output_type": "execute_result",
          "data": {
            "text/plain": [
              "['rf_model.joblib']"
            ]
          },
          "metadata": {},
          "execution_count": 23
        }
      ],
      "execution_count": null
    },
    {
      "cell_type": "code",
      "source": [
        "# Predict\n",
        "y_pred = rf.predict(X_test)\n",
        "y_proba = rf.predict_proba(X_test)[:, 1]"
      ],
      "metadata": {
        "trusted": true,
        "execution": {
          "iopub.status.busy": "2025-06-13T14:30:48.008113Z",
          "iopub.execute_input": "2025-06-13T14:30:48.008398Z",
          "iopub.status.idle": "2025-06-13T14:30:49.749249Z",
          "shell.execute_reply.started": "2025-06-13T14:30:48.008378Z",
          "shell.execute_reply": "2025-06-13T14:30:49.74845Z"
        },
        "id": "I5XPu3l0uuoo"
      },
      "outputs": [],
      "execution_count": null
    },
    {
      "cell_type": "code",
      "source": [
        "# Evaluate\n",
        "print(\"Random Forest Results\")\n",
        "print(confusion_matrix(y_test, y_pred))\n",
        "print(classification_report(y_test, y_pred, digits=4))\n",
        "print(\"ROC AUC:\", roc_auc_score(y_test, y_proba))"
      ],
      "metadata": {
        "trusted": true,
        "execution": {
          "iopub.status.busy": "2025-06-13T14:30:53.720664Z",
          "iopub.execute_input": "2025-06-13T14:30:53.720937Z",
          "iopub.status.idle": "2025-06-13T14:30:53.841948Z",
          "shell.execute_reply.started": "2025-06-13T14:30:53.720919Z",
          "shell.execute_reply": "2025-06-13T14:30:53.840871Z"
        },
        "colab": {
          "base_uri": "https://localhost:8080/"
        },
        "id": "nx-HtRFxuuop",
        "outputId": "bf808078-f9fe-4d9a-ebeb-c78a8d7cb5d0"
      },
      "outputs": [
        {
          "output_type": "stream",
          "name": "stdout",
          "text": [
            "Random Forest Results\n",
            "[[17455  1145]\n",
            " [ 1278 31657]]\n",
            "              precision    recall  f1-score   support\n",
            "\n",
            "           0     0.9318    0.9384    0.9351     18600\n",
            "           1     0.9651    0.9612    0.9631     32935\n",
            "\n",
            "    accuracy                         0.9530     51535\n",
            "   macro avg     0.9484    0.9498    0.9491     51535\n",
            "weighted avg     0.9531    0.9530    0.9530     51535\n",
            "\n",
            "ROC AUC: 0.9924736659533033\n"
          ]
        }
      ],
      "execution_count": null
    },
    {
      "cell_type": "code",
      "source": [
        "from sklearn.metrics import confusion_matrix\n",
        "\n",
        "cm = confusion_matrix(y_test, y_pred)\n",
        "print(cm)"
      ],
      "metadata": {
        "trusted": true,
        "execution": {
          "iopub.status.busy": "2025-06-13T14:30:57.659997Z",
          "iopub.execute_input": "2025-06-13T14:30:57.66027Z",
          "iopub.status.idle": "2025-06-13T14:30:57.675626Z",
          "shell.execute_reply.started": "2025-06-13T14:30:57.660251Z",
          "shell.execute_reply": "2025-06-13T14:30:57.674616Z"
        },
        "colab": {
          "base_uri": "https://localhost:8080/"
        },
        "id": "FqsrMBgvuuop",
        "outputId": "ab22a066-f90f-44cc-e01b-72781d6fe848"
      },
      "outputs": [
        {
          "output_type": "stream",
          "name": "stdout",
          "text": [
            "[[17455  1145]\n",
            " [ 1278 31657]]\n"
          ]
        }
      ],
      "execution_count": null
    },
    {
      "cell_type": "code",
      "source": [
        "from sklearn.metrics import (\n",
        "    accuracy_score, confusion_matrix, classification_report, roc_auc_score\n",
        ")\n",
        "\n",
        "print(\"Accuracy:\", accuracy_score(y_test, y_pred))\n",
        "print(\"Confusion Matrix:\\n\", confusion_matrix(y_test, y_pred))\n",
        "print(classification_report(y_test, y_pred, digits=4))\n",
        "print(\"ROC AUC:\", roc_auc_score(y_test, y_proba))"
      ],
      "metadata": {
        "trusted": true,
        "execution": {
          "iopub.status.busy": "2025-06-13T14:31:01.040246Z",
          "iopub.execute_input": "2025-06-13T14:31:01.040636Z",
          "iopub.status.idle": "2025-06-13T14:31:01.169928Z",
          "shell.execute_reply.started": "2025-06-13T14:31:01.040611Z",
          "shell.execute_reply": "2025-06-13T14:31:01.168638Z"
        },
        "colab": {
          "base_uri": "https://localhost:8080/"
        },
        "id": "r9L_Vm-xuuop",
        "outputId": "98bf7ac5-879c-408a-d5a1-5ca69233742e"
      },
      "outputs": [
        {
          "output_type": "stream",
          "name": "stdout",
          "text": [
            "Accuracy: 0.9529834093334627\n",
            "Confusion Matrix:\n",
            " [[17455  1145]\n",
            " [ 1278 31657]]\n",
            "              precision    recall  f1-score   support\n",
            "\n",
            "           0     0.9318    0.9384    0.9351     18600\n",
            "           1     0.9651    0.9612    0.9631     32935\n",
            "\n",
            "    accuracy                         0.9530     51535\n",
            "   macro avg     0.9484    0.9498    0.9491     51535\n",
            "weighted avg     0.9531    0.9530    0.9530     51535\n",
            "\n",
            "ROC AUC: 0.9924736659533033\n"
          ]
        }
      ],
      "execution_count": null
    },
    {
      "cell_type": "code",
      "source": [
        "from sklearn.svm import SVC\n",
        "# Support Vector Machine (SVM)\n",
        "\n",
        "svm = SVC(probability=True, random_state=42)\n",
        "svm.fit(X_train, y_train)\n",
        "\n",
        "# Save model\n",
        "joblib.dump(svm, 'svm_model.joblib')"
      ],
      "metadata": {
        "trusted": true,
        "execution": {
          "iopub.status.busy": "2025-06-13T14:32:10.391461Z",
          "iopub.execute_input": "2025-06-13T14:32:10.39181Z"
        },
        "id": "aRuo8HHMuuop"
      },
      "outputs": [],
      "execution_count": null
    },
    {
      "cell_type": "code",
      "source": [
        "# Predict\n",
        "y_pred_svm = svm.predict(X_test)\n",
        "y_proba_svm = svm.predict_proba(X_test)[:, 1]"
      ],
      "metadata": {
        "trusted": true,
        "id": "8PlkgDFhuuop"
      },
      "outputs": [],
      "execution_count": null
    },
    {
      "cell_type": "code",
      "source": [
        "# Evaluate\n",
        "print(\"SVM Results\")\n",
        "print(confusion_matrix(y_test, y_pred_svm))\n",
        "print(classification_report(y_test, y_pred_svm, digits=4))\n",
        "print(\"ROC AUC:\", roc_auc_score(y_test, y_proba_svm))\n",
        "print(\"Accuracy:\", accuracy_score(y_test, y_pred_svm))"
      ],
      "metadata": {
        "trusted": true,
        "id": "saQxVimhuuop"
      },
      "outputs": [],
      "execution_count": null
    },
    {
      "cell_type": "code",
      "source": [
        "from sklearn.neighbors import KNeighborsClassifier\n",
        "knn = KNeighborsClassifier(n_neighbors=5)\n",
        "knn.fit(X_train, y_train)\n",
        "\n",
        "# Save model\n",
        "joblib.dump(knn, 'knn_model.joblib')"
      ],
      "metadata": {
        "trusted": true,
        "id": "ZYRpt70vuuop"
      },
      "outputs": [],
      "execution_count": null
    },
    {
      "cell_type": "code",
      "source": [
        "# Predict\n",
        "y_pred_knn = knn.predict(X_test)\n",
        "y_proba_knn = knn.predict_proba(X_test)[:, 1]"
      ],
      "metadata": {
        "trusted": true,
        "id": "6pBFZkjzuuop"
      },
      "outputs": [],
      "execution_count": null
    },
    {
      "cell_type": "code",
      "source": [
        "# Evaluate\n",
        "print(\"KNN Results\")\n",
        "print(confusion_matrix(y_test, y_pred_knn))\n",
        "print(classification_report(y_test, y_pred_knn, digits=4))\n",
        "print(\"ROC AUC:\", roc_auc_score(y_test, y_proba_knn))\n",
        "print(\"Accuracy:\", accuracy_score(y_test, y_pred_knn))"
      ],
      "metadata": {
        "trusted": true,
        "id": "En1foDFquuop"
      },
      "outputs": [],
      "execution_count": null
    },
    {
      "cell_type": "code",
      "metadata": {
        "id": "2818e6a9"
      },
      "source": [
        "from sklearn.model_selection import train_test_split\n",
        "import numpy as np\n",
        "\n",
        "# Assuming 'df' is your DataFrame and 'target' is the target column\n",
        "# Replace 'df' and 'target' with your actual DataFrame and target column name\n",
        "# Example: Assuming 'df' contains the data and 'target_column' is the name of the target variable\n",
        "# X = df.drop('target_column', axis=1)\n",
        "# y = df['target_column']\n",
        "\n",
        "# Split data into training and testing sets (example using dummy data)\n",
        "X = np.random.rand(100, 10) # Replace with your actual feature data\n",
        "y = np.random.randint(0, 2, 100) # Replace with your actual target data\n",
        "\n",
        "X_train, X_test, y_train, y_test = train_test_split(X, y, test_size=0.2, random_state=42)"
      ],
      "execution_count": null,
      "outputs": []
    },
    {
      "cell_type": "code",
      "source": [
        "import tensorflow as tf\n",
        "from tensorflow.keras.models import Sequential\n",
        "from tensorflow.keras.layers import Dense, LSTM, Dropout, Input\n",
        "from tensorflow.keras.utils import to_categorical\n",
        "\n",
        "# (binary classification)\n",
        "y_train_lstm = to_categorical(y_train)\n",
        "y_test_lstm = to_categorical(y_test)\n",
        "\n",
        "# Reshape data\n",
        "X_train_lstm = X_train.reshape((X_train.shape[0], 1, X_train.shape[1]))\n",
        "X_test_lstm = X_test.reshape((X_test.shape[0], 1, X_test.shape[1]))"
      ],
      "metadata": {
        "trusted": true,
        "id": "Kw0YR_3vuuoq"
      },
      "outputs": [],
      "execution_count": null
    },
    {
      "cell_type": "code",
      "source": [
        "# LSTM\n",
        "lstm_model = Sequential([\n",
        "    Input(shape=(1, X_train.shape[1])),\n",
        "    LSTM(64, return_sequences=False),\n",
        "    Dropout(0.3),\n",
        "    Dense(32, activation='relu'),\n",
        "    Dropout(0.2),\n",
        "    Dense(2, activation='softmax')  # 2 classes\n",
        "])\n",
        "\n",
        "lstm_model.compile(optimizer='adam', loss='categorical_crossentropy', metrics=['accuracy'])\n",
        "\n",
        "# Train\n",
        "lstm_model.fit(X_train_lstm, y_train_lstm, epochs=40, batch_size=128, validation_split=0.2)"
      ],
      "metadata": {
        "trusted": true,
        "colab": {
          "base_uri": "https://localhost:8080/"
        },
        "id": "rgpADvl-uuoq",
        "outputId": "c04aaddd-10c2-414d-e3c4-0e2bb2b8e483"
      },
      "outputs": [
        {
          "output_type": "stream",
          "name": "stdout",
          "text": [
            "Epoch 1/40\n",
            "\u001b[1m1/1\u001b[0m \u001b[32m━━━━━━━━━━━━━━━━━━━━\u001b[0m\u001b[37m\u001b[0m \u001b[1m4s\u001b[0m 4s/step - accuracy: 0.4688 - loss: 0.6928 - val_accuracy: 0.6250 - val_loss: 0.6851\n",
            "Epoch 2/40\n",
            "\u001b[1m1/1\u001b[0m \u001b[32m━━━━━━━━━━━━━━━━━━━━\u001b[0m\u001b[37m\u001b[0m \u001b[1m0s\u001b[0m 106ms/step - accuracy: 0.5312 - loss: 0.6889 - val_accuracy: 0.6250 - val_loss: 0.6845\n",
            "Epoch 3/40\n",
            "\u001b[1m1/1\u001b[0m \u001b[32m━━━━━━━━━━━━━━━━━━━━\u001b[0m\u001b[37m\u001b[0m \u001b[1m0s\u001b[0m 108ms/step - accuracy: 0.5625 - loss: 0.6885 - val_accuracy: 0.6250 - val_loss: 0.6836\n",
            "Epoch 4/40\n",
            "\u001b[1m1/1\u001b[0m \u001b[32m━━━━━━━━━━━━━━━━━━━━\u001b[0m\u001b[37m\u001b[0m \u001b[1m0s\u001b[0m 137ms/step - accuracy: 0.5156 - loss: 0.6851 - val_accuracy: 0.6250 - val_loss: 0.6828\n",
            "Epoch 5/40\n",
            "\u001b[1m1/1\u001b[0m \u001b[32m━━━━━━━━━━━━━━━━━━━━\u001b[0m\u001b[37m\u001b[0m \u001b[1m0s\u001b[0m 106ms/step - accuracy: 0.5625 - loss: 0.6850 - val_accuracy: 0.6250 - val_loss: 0.6821\n",
            "Epoch 6/40\n",
            "\u001b[1m1/1\u001b[0m \u001b[32m━━━━━━━━━━━━━━━━━━━━\u001b[0m\u001b[37m\u001b[0m \u001b[1m0s\u001b[0m 106ms/step - accuracy: 0.5156 - loss: 0.6855 - val_accuracy: 0.6250 - val_loss: 0.6812\n",
            "Epoch 7/40\n",
            "\u001b[1m1/1\u001b[0m \u001b[32m━━━━━━━━━━━━━━━━━━━━\u001b[0m\u001b[37m\u001b[0m \u001b[1m0s\u001b[0m 137ms/step - accuracy: 0.5625 - loss: 0.6920 - val_accuracy: 0.6250 - val_loss: 0.6804\n",
            "Epoch 8/40\n",
            "\u001b[1m1/1\u001b[0m \u001b[32m━━━━━━━━━━━━━━━━━━━━\u001b[0m\u001b[37m\u001b[0m \u001b[1m0s\u001b[0m 103ms/step - accuracy: 0.5469 - loss: 0.6847 - val_accuracy: 0.6250 - val_loss: 0.6796\n",
            "Epoch 9/40\n",
            "\u001b[1m1/1\u001b[0m \u001b[32m━━━━━━━━━━━━━━━━━━━━\u001b[0m\u001b[37m\u001b[0m \u001b[1m0s\u001b[0m 167ms/step - accuracy: 0.5625 - loss: 0.6938 - val_accuracy: 0.6250 - val_loss: 0.6791\n",
            "Epoch 10/40\n",
            "\u001b[1m1/1\u001b[0m \u001b[32m━━━━━━━━━━━━━━━━━━━━\u001b[0m\u001b[37m\u001b[0m \u001b[1m0s\u001b[0m 119ms/step - accuracy: 0.5156 - loss: 0.6894 - val_accuracy: 0.6250 - val_loss: 0.6788\n",
            "Epoch 11/40\n",
            "\u001b[1m1/1\u001b[0m \u001b[32m━━━━━━━━━━━━━━━━━━━━\u001b[0m\u001b[37m\u001b[0m \u001b[1m0s\u001b[0m 106ms/step - accuracy: 0.5469 - loss: 0.6843 - val_accuracy: 0.6250 - val_loss: 0.6785\n",
            "Epoch 12/40\n",
            "\u001b[1m1/1\u001b[0m \u001b[32m━━━━━━━━━━━━━━━━━━━━\u001b[0m\u001b[37m\u001b[0m \u001b[1m0s\u001b[0m 103ms/step - accuracy: 0.5312 - loss: 0.6857 - val_accuracy: 0.6250 - val_loss: 0.6783\n",
            "Epoch 13/40\n",
            "\u001b[1m1/1\u001b[0m \u001b[32m━━━━━━━━━━━━━━━━━━━━\u001b[0m\u001b[37m\u001b[0m \u001b[1m0s\u001b[0m 149ms/step - accuracy: 0.5469 - loss: 0.6862 - val_accuracy: 0.6250 - val_loss: 0.6783\n",
            "Epoch 14/40\n",
            "\u001b[1m1/1\u001b[0m \u001b[32m━━━━━━━━━━━━━━━━━━━━\u001b[0m\u001b[37m\u001b[0m \u001b[1m0s\u001b[0m 225ms/step - accuracy: 0.5312 - loss: 0.6859 - val_accuracy: 0.6250 - val_loss: 0.6784\n",
            "Epoch 15/40\n",
            "\u001b[1m1/1\u001b[0m \u001b[32m━━━━━━━━━━━━━━━━━━━━\u001b[0m\u001b[37m\u001b[0m \u001b[1m0s\u001b[0m 153ms/step - accuracy: 0.5781 - loss: 0.6800 - val_accuracy: 0.6250 - val_loss: 0.6784\n",
            "Epoch 16/40\n",
            "\u001b[1m1/1\u001b[0m \u001b[32m━━━━━━━━━━━━━━━━━━━━\u001b[0m\u001b[37m\u001b[0m \u001b[1m0s\u001b[0m 217ms/step - accuracy: 0.5625 - loss: 0.6798 - val_accuracy: 0.6250 - val_loss: 0.6785\n",
            "Epoch 17/40\n",
            "\u001b[1m1/1\u001b[0m \u001b[32m━━━━━━━━━━━━━━━━━━━━\u001b[0m\u001b[37m\u001b[0m \u001b[1m0s\u001b[0m 260ms/step - accuracy: 0.5469 - loss: 0.6808 - val_accuracy: 0.6250 - val_loss: 0.6788\n",
            "Epoch 18/40\n",
            "\u001b[1m1/1\u001b[0m \u001b[32m━━━━━━━━━━━━━━━━━━━━\u001b[0m\u001b[37m\u001b[0m \u001b[1m0s\u001b[0m 173ms/step - accuracy: 0.5469 - loss: 0.6782 - val_accuracy: 0.6250 - val_loss: 0.6791\n",
            "Epoch 19/40\n",
            "\u001b[1m1/1\u001b[0m \u001b[32m━━━━━━━━━━━━━━━━━━━━\u001b[0m\u001b[37m\u001b[0m \u001b[1m0s\u001b[0m 280ms/step - accuracy: 0.5469 - loss: 0.6812 - val_accuracy: 0.6250 - val_loss: 0.6794\n",
            "Epoch 20/40\n",
            "\u001b[1m1/1\u001b[0m \u001b[32m━━━━━━━━━━━━━━━━━━━━\u001b[0m\u001b[37m\u001b[0m \u001b[1m0s\u001b[0m 339ms/step - accuracy: 0.5469 - loss: 0.6887 - val_accuracy: 0.6250 - val_loss: 0.6797\n",
            "Epoch 21/40\n",
            "\u001b[1m1/1\u001b[0m \u001b[32m━━━━━━━━━━━━━━━━━━━━\u001b[0m\u001b[37m\u001b[0m \u001b[1m0s\u001b[0m 261ms/step - accuracy: 0.5469 - loss: 0.6771 - val_accuracy: 0.6250 - val_loss: 0.6798\n",
            "Epoch 22/40\n",
            "\u001b[1m1/1\u001b[0m \u001b[32m━━━━━━━━━━━━━━━━━━━━\u001b[0m\u001b[37m\u001b[0m \u001b[1m0s\u001b[0m 237ms/step - accuracy: 0.5625 - loss: 0.6759 - val_accuracy: 0.6250 - val_loss: 0.6799\n",
            "Epoch 23/40\n",
            "\u001b[1m1/1\u001b[0m \u001b[32m━━━━━━━━━━━━━━━━━━━━\u001b[0m\u001b[37m\u001b[0m \u001b[1m0s\u001b[0m 203ms/step - accuracy: 0.6406 - loss: 0.6656 - val_accuracy: 0.6250 - val_loss: 0.6802\n",
            "Epoch 24/40\n",
            "\u001b[1m1/1\u001b[0m \u001b[32m━━━━━━━━━━━━━━━━━━━━\u001b[0m\u001b[37m\u001b[0m \u001b[1m0s\u001b[0m 110ms/step - accuracy: 0.5469 - loss: 0.6755 - val_accuracy: 0.6250 - val_loss: 0.6805\n",
            "Epoch 25/40\n",
            "\u001b[1m1/1\u001b[0m \u001b[32m━━━━━━━━━━━━━━━━━━━━\u001b[0m\u001b[37m\u001b[0m \u001b[1m0s\u001b[0m 181ms/step - accuracy: 0.5312 - loss: 0.6749 - val_accuracy: 0.5625 - val_loss: 0.6808\n",
            "Epoch 26/40\n",
            "\u001b[1m1/1\u001b[0m \u001b[32m━━━━━━━━━━━━━━━━━━━━\u001b[0m\u001b[37m\u001b[0m \u001b[1m0s\u001b[0m 108ms/step - accuracy: 0.5781 - loss: 0.6709 - val_accuracy: 0.5000 - val_loss: 0.6812\n",
            "Epoch 27/40\n",
            "\u001b[1m1/1\u001b[0m \u001b[32m━━━━━━━━━━━━━━━━━━━━\u001b[0m\u001b[37m\u001b[0m \u001b[1m0s\u001b[0m 142ms/step - accuracy: 0.5625 - loss: 0.6759 - val_accuracy: 0.5000 - val_loss: 0.6816\n",
            "Epoch 28/40\n",
            "\u001b[1m1/1\u001b[0m \u001b[32m━━━━━━━━━━━━━━━━━━━━\u001b[0m\u001b[37m\u001b[0m \u001b[1m0s\u001b[0m 263ms/step - accuracy: 0.5156 - loss: 0.6822 - val_accuracy: 0.5000 - val_loss: 0.6822\n",
            "Epoch 29/40\n",
            "\u001b[1m1/1\u001b[0m \u001b[32m━━━━━━━━━━━━━━━━━━━━\u001b[0m\u001b[37m\u001b[0m \u001b[1m0s\u001b[0m 149ms/step - accuracy: 0.5781 - loss: 0.6795 - val_accuracy: 0.5625 - val_loss: 0.6828\n",
            "Epoch 30/40\n",
            "\u001b[1m1/1\u001b[0m \u001b[32m━━━━━━━━━━━━━━━━━━━━\u001b[0m\u001b[37m\u001b[0m \u001b[1m0s\u001b[0m 154ms/step - accuracy: 0.6250 - loss: 0.6737 - val_accuracy: 0.5625 - val_loss: 0.6835\n",
            "Epoch 31/40\n",
            "\u001b[1m1/1\u001b[0m \u001b[32m━━━━━━━━━━━━━━━━━━━━\u001b[0m\u001b[37m\u001b[0m \u001b[1m0s\u001b[0m 154ms/step - accuracy: 0.6250 - loss: 0.6748 - val_accuracy: 0.5625 - val_loss: 0.6842\n",
            "Epoch 32/40\n",
            "\u001b[1m1/1\u001b[0m \u001b[32m━━━━━━━━━━━━━━━━━━━━\u001b[0m\u001b[37m\u001b[0m \u001b[1m0s\u001b[0m 103ms/step - accuracy: 0.5781 - loss: 0.6780 - val_accuracy: 0.5625 - val_loss: 0.6851\n",
            "Epoch 33/40\n",
            "\u001b[1m1/1\u001b[0m \u001b[32m━━━━━━━━━━━━━━━━━━━━\u001b[0m\u001b[37m\u001b[0m \u001b[1m0s\u001b[0m 141ms/step - accuracy: 0.5781 - loss: 0.6648 - val_accuracy: 0.5625 - val_loss: 0.6859\n",
            "Epoch 34/40\n",
            "\u001b[1m1/1\u001b[0m \u001b[32m━━━━━━━━━━━━━━━━━━━━\u001b[0m\u001b[37m\u001b[0m \u001b[1m0s\u001b[0m 105ms/step - accuracy: 0.6250 - loss: 0.6693 - val_accuracy: 0.5625 - val_loss: 0.6865\n",
            "Epoch 35/40\n",
            "\u001b[1m1/1\u001b[0m \u001b[32m━━━━━━━━━━━━━━━━━━━━\u001b[0m\u001b[37m\u001b[0m \u001b[1m0s\u001b[0m 139ms/step - accuracy: 0.5938 - loss: 0.6693 - val_accuracy: 0.5625 - val_loss: 0.6871\n",
            "Epoch 36/40\n",
            "\u001b[1m1/1\u001b[0m \u001b[32m━━━━━━━━━━━━━━━━━━━━\u001b[0m\u001b[37m\u001b[0m \u001b[1m0s\u001b[0m 139ms/step - accuracy: 0.6719 - loss: 0.6585 - val_accuracy: 0.5625 - val_loss: 0.6878\n",
            "Epoch 37/40\n",
            "\u001b[1m1/1\u001b[0m \u001b[32m━━━━━━━━━━━━━━━━━━━━\u001b[0m\u001b[37m\u001b[0m \u001b[1m0s\u001b[0m 182ms/step - accuracy: 0.6094 - loss: 0.6714 - val_accuracy: 0.5625 - val_loss: 0.6887\n",
            "Epoch 38/40\n",
            "\u001b[1m1/1\u001b[0m \u001b[32m━━━━━━━━━━━━━━━━━━━━\u001b[0m\u001b[37m\u001b[0m \u001b[1m0s\u001b[0m 116ms/step - accuracy: 0.6094 - loss: 0.6723 - val_accuracy: 0.5625 - val_loss: 0.6895\n",
            "Epoch 39/40\n",
            "\u001b[1m1/1\u001b[0m \u001b[32m━━━━━━━━━━━━━━━━━━━━\u001b[0m\u001b[37m\u001b[0m \u001b[1m0s\u001b[0m 111ms/step - accuracy: 0.5938 - loss: 0.6768 - val_accuracy: 0.5625 - val_loss: 0.6902\n",
            "Epoch 40/40\n",
            "\u001b[1m1/1\u001b[0m \u001b[32m━━━━━━━━━━━━━━━━━━━━\u001b[0m\u001b[37m\u001b[0m \u001b[1m0s\u001b[0m 132ms/step - accuracy: 0.6094 - loss: 0.6647 - val_accuracy: 0.5625 - val_loss: 0.6906\n"
          ]
        },
        {
          "output_type": "execute_result",
          "data": {
            "text/plain": [
              "<keras.src.callbacks.history.History at 0x79d51ec44590>"
            ]
          },
          "metadata": {},
          "execution_count": 10
        }
      ],
      "execution_count": null
    },
    {
      "cell_type": "code",
      "source": [
        "from sklearn.metrics import accuracy_score, confusion_matrix, classification_report, roc_auc_score\n",
        "\n",
        "# Perdict\n",
        "y_pred_lstm = lstm_model.predict(X_test_lstm)\n",
        "y_pred_lstm_classes = np.argmax(y_pred_lstm, axis=1)\n",
        "y_proba_lstm = y_pred_lstm[:, 1]\n",
        "\n",
        "print(\"\\nLSTM Results\")\n",
        "print(\"Accuracy:\", accuracy_score(y_test, y_pred_lstm_classes))\n",
        "print(\"Confusion Matrix:\\n\", confusion_matrix(y_test, y_pred_lstm_classes))\n",
        "print(classification_report(y_test, y_pred_lstm_classes, digits=4))\n",
        "print(\"ROC AUC:\", roc_auc_score(y_test, y_proba_lstm))"
      ],
      "metadata": {
        "trusted": true,
        "colab": {
          "base_uri": "https://localhost:8080/"
        },
        "id": "tyg553JZuuoq",
        "outputId": "c5d228f1-2ecc-496f-fca6-381ce81f83ed"
      },
      "outputs": [
        {
          "output_type": "stream",
          "name": "stdout",
          "text": [
            "\u001b[1m1/1\u001b[0m \u001b[32m━━━━━━━━━━━━━━━━━━━━\u001b[0m\u001b[37m\u001b[0m \u001b[1m0s\u001b[0m 223ms/step\n",
            "\n",
            "LSTM Results\n",
            "Accuracy: 0.45\n",
            "Confusion Matrix:\n",
            " [[2 9]\n",
            " [2 7]]\n",
            "              precision    recall  f1-score   support\n",
            "\n",
            "           0     0.5000    0.1818    0.2667        11\n",
            "           1     0.4375    0.7778    0.5600         9\n",
            "\n",
            "    accuracy                         0.4500        20\n",
            "   macro avg     0.4688    0.4798    0.4133        20\n",
            "weighted avg     0.4719    0.4500    0.3987        20\n",
            "\n",
            "ROC AUC: 0.6161616161616161\n"
          ]
        }
      ],
      "execution_count": null
    }
  ]
}